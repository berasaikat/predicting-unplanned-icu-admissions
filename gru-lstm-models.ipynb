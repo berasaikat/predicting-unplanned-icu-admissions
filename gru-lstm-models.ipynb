{
 "cells": [
  {
   "cell_type": "markdown",
   "metadata": {},
   "source": [
    "# Loading the data and required libraries"
   ]
  },
  {
   "cell_type": "code",
   "execution_count": 2,
   "metadata": {},
   "outputs": [],
   "source": [
    "import pandas as pd\n",
    "import numpy as np\n",
    "import re\n",
    "import datetime\n",
    "import seaborn as sns\n",
    "from matplotlib import pyplot as plt\n",
    "# from google.colab import drive \n",
    "\n",
    "import string\n",
    "import nltk\n",
    "from nltk import word_tokenize\n",
    "from nltk.stem.porter import PorterStemmer\n",
    "from nltk.corpus import stopwords\n",
    "\n",
    "from sklearn.feature_extraction.text import CountVectorizer\n",
    "from sklearn.model_selection import train_test_split\n",
    "\n",
    "from keras.models import Sequential, load_model\n",
    "from keras.layers import LSTM, Dense, Dropout, Embedding, GRU\n",
    "from keras.optimizers import RMSprop, Adam\n",
    "from keras.utils import to_categorical\n",
    "from keras.callbacks import ModelCheckpoint\n",
    "from keras.preprocessing.text import Tokenizer\n",
    "from keras.utils import pad_sequences\n",
    "from keras.utils.vis_utils import plot_model\n",
    "\n",
    "import tensorflow as tf"
   ]
  },
  {
   "cell_type": "code",
   "execution_count": 3,
   "metadata": {},
   "outputs": [],
   "source": [
    "import warnings\n",
    "warnings.filterwarnings('ignore')"
   ]
  },
  {
   "cell_type": "code",
   "execution_count": 4,
   "metadata": {},
   "outputs": [],
   "source": [
    "DIR = \"E:/Coding/Summer 2023/data/\""
   ]
  },
  {
   "cell_type": "code",
   "execution_count": 5,
   "metadata": {},
   "outputs": [],
   "source": [
    "adm_notes = pd.read_csv(DIR + \"readmission.csv\", low_memory=False)"
   ]
  },
  {
   "cell_type": "markdown",
   "metadata": {},
   "source": [
    "# Natural Language"
   ]
  },
  {
   "cell_type": "code",
   "execution_count": 6,
   "metadata": {},
   "outputs": [],
   "source": [
    "def clean_text(texts):\n",
    "    texts = texts.fillna(' ')\n",
    "    texts = texts.str.replace('\\n',' ')\n",
    "    texts = texts.str.replace('\\r',' ')\n",
    "\n",
    "    table = str.maketrans('', '', string.punctuation + '0123456789')\n",
    "    texts = [text.lower().translate(table) for text in texts]\n",
    "\n",
    "    return texts"
   ]
  },
  {
   "cell_type": "code",
   "execution_count": 7,
   "metadata": {},
   "outputs": [],
   "source": [
    "adm_notes['TEXT'] = clean_text(adm_notes['TEXT'])"
   ]
  },
  {
   "cell_type": "code",
   "execution_count": 8,
   "metadata": {},
   "outputs": [],
   "source": [
    "stop_words = stopwords.words('english')\n",
    "stop_words = stop_words + ['patient', 'date', 'admission', 'discharge', 'lastname', 'firstname', 'sex']"
   ]
  },
  {
   "cell_type": "code",
   "execution_count": 9,
   "metadata": {},
   "outputs": [],
   "source": [
    "porter = PorterStemmer()"
   ]
  },
  {
   "cell_type": "code",
   "execution_count": 10,
   "metadata": {},
   "outputs": [],
   "source": [
    "def tokenize_stem(text):\n",
    "    words = word_tokenize(text)\n",
    "    words = [word for word in words if word not in stop_words]\n",
    "    words = [porter.stem(word) for word in words]\n",
    "    return words"
   ]
  },
  {
   "cell_type": "code",
   "execution_count": 11,
   "metadata": {},
   "outputs": [],
   "source": [
    "for i, text in enumerate(adm_notes['TEXT']):\n",
    "   adm_notes.loc[i, 'TEXT'] = (' ').join(tokenize_stem(adm_notes['TEXT'][i]))"
   ]
  },
  {
   "cell_type": "markdown",
   "metadata": {},
   "source": [
    "# Model\n",
    "## Words, Train and Test"
   ]
  },
  {
   "cell_type": "markdown",
   "metadata": {},
   "source": [
    "Repartition data"
   ]
  },
  {
   "cell_type": "code",
   "execution_count": 12,
   "metadata": {},
   "outputs": [],
   "source": [
    "df_train, df_test = train_test_split(adm_notes, test_size=0.2, random_state=42)"
   ]
  },
  {
   "cell_type": "markdown",
   "metadata": {},
   "source": [
    "Subsample non-readmitted patients to match size of readmitted ones"
   ]
  },
  {
   "cell_type": "code",
   "execution_count": 13,
   "metadata": {},
   "outputs": [],
   "source": [
    "rows_pos = df_train['READM_WITHIN_30'] == 1\n",
    "df_train_pos = df_train.loc[rows_pos]\n",
    "df_train_neg = df_train.loc[~rows_pos]\n",
    "\n",
    "df_train = pd.concat([df_train_pos, df_train_neg.sample(n = len(df_train_pos))], axis = 0)\n",
    "df_train = df_train.sample(n = len(df_train)).reset_index(drop = True)"
   ]
  },
  {
   "cell_type": "code",
   "execution_count": 14,
   "metadata": {},
   "outputs": [],
   "source": [
    "rows_pos = df_test['READM_WITHIN_30'] == 1\n",
    "df_test_pos = df_test.loc[rows_pos]\n",
    "df_test_neg = df_test.loc[~rows_pos]\n",
    "\n",
    "df_test = pd.concat([df_test_pos, df_test_neg.sample(n = len(df_test_pos))], axis = 0)\n",
    "df_test = df_test.sample(n = len(df_test)).reset_index(drop = True)"
   ]
  },
  {
   "cell_type": "code",
   "execution_count": 15,
   "metadata": {},
   "outputs": [
    {
     "name": "stdout",
     "output_type": "stream",
     "text": [
      "(4630, 10)\n",
      "(1296, 10)\n"
     ]
    }
   ],
   "source": [
    "print(df_train.shape)\n",
    "print(df_test.shape)"
   ]
  },
  {
   "cell_type": "markdown",
   "metadata": {},
   "source": [
    "Sparse Matrix with word count"
   ]
  },
  {
   "cell_type": "markdown",
   "metadata": {},
   "source": [
    "# Recurrent Neural Network"
   ]
  },
  {
   "cell_type": "code",
   "execution_count": 16,
   "metadata": {},
   "outputs": [],
   "source": [
    "NUMBER_WORDS = 5000\n",
    "\n",
    "tokenizer = Tokenizer(num_words=NUMBER_WORDS)\n",
    "tokenizer.fit_on_texts(df_train['TEXT'])\n",
    "sequences_train = tokenizer.texts_to_sequences(df_train['TEXT'])\n",
    "sequences_test = tokenizer.texts_to_sequences(df_test['TEXT'])\n",
    "\n",
    "X_train = pad_sequences(sequences_train, maxlen=NUMBER_WORDS)\n",
    "X_test = pad_sequences(sequences_test, maxlen=NUMBER_WORDS)"
   ]
  },
  {
   "cell_type": "code",
   "execution_count": 17,
   "metadata": {},
   "outputs": [],
   "source": [
    "y_train = to_categorical(df_train['READM_WITHIN_30'])\n",
    "y_test = to_categorical(df_test['READM_WITHIN_30'])"
   ]
  },
  {
   "cell_type": "code",
   "execution_count": 18,
   "metadata": {},
   "outputs": [],
   "source": [
    "adam = Adam(learning_rate=0.0001)"
   ]
  },
  {
   "cell_type": "code",
   "execution_count": 19,
   "metadata": {},
   "outputs": [
    {
     "name": "stdout",
     "output_type": "stream",
     "text": [
      "Model: \"sequential\"\n",
      "_________________________________________________________________\n",
      " Layer (type)                Output Shape              Param #   \n",
      "=================================================================\n",
      " embedding (Embedding)       (None, 5000, 64)          320000    \n",
      "                                                                 \n",
      " gru (GRU)                   (None, 64)                24960     \n",
      "                                                                 \n",
      " dense (Dense)               (None, 2)                 130       \n",
      "                                                                 \n",
      "=================================================================\n",
      "Total params: 345,090\n",
      "Trainable params: 345,090\n",
      "Non-trainable params: 0\n",
      "_________________________________________________________________\n"
     ]
    }
   ],
   "source": [
    "model = Sequential()\n",
    "model.add(Embedding(X_train.shape[1], 64, input_length=X_train.shape[1] ))\n",
    "model.add(GRU(64, dropout=0.2))\n",
    "model.add(Dense(2, activation='sigmoid'))\n",
    "model.compile(loss='categorical_crossentropy', optimizer=adam, metrics=['accuracy'])\n",
    "\n",
    "model.summary()"
   ]
  },
  {
   "cell_type": "code",
   "execution_count": 20,
   "metadata": {},
   "outputs": [
    {
     "name": "stdout",
     "output_type": "stream",
     "text": [
      "You must install pydot (`pip install pydot`) and install graphviz (see instructions at https://graphviz.gitlab.io/download/) for plot_model to work.\n"
     ]
    }
   ],
   "source": [
    "plot_model(model, show_shapes=True, show_layer_names=False)"
   ]
  },
  {
   "cell_type": "code",
   "execution_count": 21,
   "metadata": {},
   "outputs": [
    {
     "name": "stdout",
     "output_type": "stream",
     "text": [
      "Epoch 1/10\n",
      "58/58 [==============================] - 417s 7s/step - loss: 0.6929 - accuracy: 0.5119 - val_loss: 0.6919 - val_accuracy: 0.5637\n",
      "Epoch 2/10\n",
      "58/58 [==============================] - 408s 7s/step - loss: 0.6915 - accuracy: 0.5375 - val_loss: 0.6909 - val_accuracy: 0.5680\n",
      "Epoch 3/10\n",
      "58/58 [==============================] - 409s 7s/step - loss: 0.6906 - accuracy: 0.5486 - val_loss: 0.6895 - val_accuracy: 0.5648\n",
      "Epoch 4/10\n",
      "58/58 [==============================] - 408s 7s/step - loss: 0.6889 - accuracy: 0.5613 - val_loss: 0.6881 - val_accuracy: 0.5691\n",
      "Epoch 5/10\n",
      "58/58 [==============================] - 410s 7s/step - loss: 0.6871 - accuracy: 0.5756 - val_loss: 0.6866 - val_accuracy: 0.5616\n",
      "Epoch 6/10\n",
      "58/58 [==============================] - 409s 7s/step - loss: 0.6849 - accuracy: 0.5745 - val_loss: 0.6849 - val_accuracy: 0.5648\n",
      "Epoch 7/10\n",
      "58/58 [==============================] - 413s 7s/step - loss: 0.6830 - accuracy: 0.5856 - val_loss: 0.6836 - val_accuracy: 0.5670\n",
      "Epoch 8/10\n",
      "58/58 [==============================] - 409s 7s/step - loss: 0.6801 - accuracy: 0.5899 - val_loss: 0.6833 - val_accuracy: 0.5583\n",
      "Epoch 9/10\n",
      "58/58 [==============================] - 410s 7s/step - loss: 0.6780 - accuracy: 0.5934 - val_loss: 0.6828 - val_accuracy: 0.5637\n",
      "Epoch 10/10\n",
      "58/58 [==============================] - 415s 7s/step - loss: 0.6743 - accuracy: 0.5980 - val_loss: 0.6826 - val_accuracy: 0.5659\n"
     ]
    }
   ],
   "source": [
    "history = model.fit(X_train, y_train, epochs = 10, batch_size = 64, validation_split=0.2)"
   ]
  },
  {
   "cell_type": "code",
   "execution_count": 22,
   "metadata": {},
   "outputs": [
    {
     "name": "stdout",
     "output_type": "stream",
     "text": [
      "['loss', 'accuracy']\n",
      "21/21 [==============================] - 24s 1s/step - loss: 0.6812 - accuracy: 0.5687\n"
     ]
    },
    {
     "data": {
      "text/plain": [
       "[0.6811752319335938, 0.5686728358268738]"
      ]
     },
     "execution_count": 22,
     "metadata": {},
     "output_type": "execute_result"
    }
   ],
   "source": [
    "print(model.metrics_names)\n",
    "model.evaluate(X_test, y_test, batch_size=64)"
   ]
  },
  {
   "cell_type": "code",
   "execution_count": 23,
   "metadata": {},
   "outputs": [
    {
     "name": "stdout",
     "output_type": "stream",
     "text": [
      "21/21 [==============================] - 26s 1s/step\n",
      "              precision    recall  f1-score   support\n",
      "\n",
      "           0      0.567     0.583     0.575       648\n",
      "           1      0.571     0.554     0.562       648\n",
      "\n",
      "    accuracy                          0.569      1296\n",
      "   macro avg      0.569     0.569     0.569      1296\n",
      "weighted avg      0.569     0.569     0.569      1296\n",
      "\n",
      "0.5686728395061728\n"
     ]
    }
   ],
   "source": [
    "from sklearn.metrics import classification_report, roc_auc_score\n",
    "\n",
    "y_pred = model.predict(X_test, batch_size=64, verbose=1)\n",
    "y_pred = np.argmax(y_pred, axis=1)\n",
    "\n",
    "y_test_raw = df_test['READM_WITHIN_30']\n",
    "\n",
    "print(classification_report(y_test_raw, y_pred, digits=3))\n",
    "print(roc_auc_score(y_test_raw, y_pred))"
   ]
  },
  {
   "cell_type": "code",
   "execution_count": 24,
   "metadata": {},
   "outputs": [
    {
     "data": {
      "image/png": "[encoded data removed]",
      "text/plain": [
       "<Figure size 900x400 with 2 Axes>"
      ]
     },
     "metadata": {},
     "output_type": "display_data"
    },
    {
     "data": {
      "text/plain": [
       "<Figure size 640x480 with 0 Axes>"
      ]
     },
     "metadata": {},
     "output_type": "display_data"
    }
   ],
   "source": [
    "sns.set('talk', 'whitegrid', 'dark', font_scale=0.7,\n",
    "        rc={\"lines.linewidth\": 1, 'grid.linestyle': '--'})\n",
    "\n",
    "fig, ax = plt.subplots(nrows=1, ncols=2, figsize=(9, 4))\n",
    "\n",
    "ax[0].plot(history.history['accuracy'])\n",
    "ax[0].plot(history.history['val_accuracy'])\n",
    "ax[0].set_title('Model accuracy')\n",
    "ax[0].set_ylabel('Accuracy')\n",
    "ax[0].set_xlabel('Epoch')\n",
    "ax[0].legend(['Train', 'Test'], loc='upper left')\n",
    "\n",
    "ax[1].plot(history.history['loss'])\n",
    "ax[1].plot(history.history['val_loss'])\n",
    "ax[1].set_title('Model loss')\n",
    "ax[1].set_ylabel('Loss')\n",
    "ax[1].set_xlabel('Epoch')\n",
    "ax[1].legend(['Train', 'Test'], loc='upper left')\n",
    "\n",
    "fig.tight_layout()\n",
    "plt.show()\n",
    "\n",
    "plt.savefig('fig/gru.pgf')"
   ]
  },
  {
   "cell_type": "code",
   "execution_count": null,
   "metadata": {},
   "outputs": [],
   "source": []
  }
 ],
 "metadata": {
  "kernelspec": {
   "display_name": "Python 3",
   "language": "python",
   "name": "python3"
  },
  "language_info": {
   "codemirror_mode": {
    "name": "ipython",
    "version": 3
   },
   "file_extension": ".py",
   "mimetype": "text/x-python",
   "name": "python",
   "nbconvert_exporter": "python",
   "pygments_lexer": "ipython3",
   "version": "3.10.11"
  },
  "orig_nbformat": 4
 },
 "nbformat": 4,
 "nbformat_minor": 2
}
